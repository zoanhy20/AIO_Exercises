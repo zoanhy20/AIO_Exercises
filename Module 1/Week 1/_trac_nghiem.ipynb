{
    "nbformat": 4,
    "nbformat_minor": 0,
    "metadata": {
        "colab": {
            "provenance": []
        },
        "kernelspec": {
            "name": "python3",
            "display_name": "Python 3"
        },
        "language_info": {
            "name": "python"
        }
    },
    "cells": [
        {
            "cell_type": "markdown",
            "source": [
                "# II. Câu hỏi trắc nghiệm"
            ],
            "metadata": {
                "id": "ItlvU_PdVB7i"
            }
        },
        {
            "cell_type": "code",
            "source": [
                "final_answer = []\n",
                "\n",
                "\n",
                "def answer(choice):\n",
                "    final_answer.append(choice)"
            ],
            "metadata": {
                "id": "6OwK1FugbaQC"
            },
            "execution_count": null,
            "outputs": []
        },
        {
            "cell_type": "markdown",
            "source": [
                "## Câu 1"
            ],
            "metadata": {
                "id": "sxrhWLkUVH2I"
            }
        },
        {
            "cell_type": "code",
            "source": [
                "import math\n",
                "\n",
                "\n",
                "def calc_f1_score(tp, fp, fn):\n",
                "    precision = tp / (tp + fp)\n",
                "    recall = tp / (tp + fn)\n",
                "    f1_score = 2 * precision * recall / (precision + recall)\n",
                "\n",
                "    return f1_score"
            ],
            "metadata": {
                "id": "d4FvXUxhVEeV"
            },
            "execution_count": null,
            "outputs": []
        },
        {
            "cell_type": "code",
            "source": [
                "assert round(calc_f1_score(tp=2, fp=3, fn=5), 2) == 0.33\n",
                "print(round(calc_f1_score(tp=2, fp=4, fn=5), 2))"
            ],
            "metadata": {
                "colab": {
                    "base_uri": "https://localhost:8080/"
                },
                "id": "WADm11R3a76v",
                "outputId": "f9e95e4f-0640-47f0-ecf4-09ea335bb9fd"
            },
            "execution_count": null,
            "outputs": [
                {
                    "output_type": "stream",
                    "name": "stdout",
                    "text": [
                        "0.31\n"
                    ]
                }
            ]
        },
        {
            "cell_type": "code",
            "source": [
                "answer('c')"
            ],
            "metadata": {
                "id": "_2dXUiStbEJR"
            },
            "execution_count": null,
            "outputs": []
        },
        {
            "cell_type": "markdown",
            "source": [
                "## Câu 2"
            ],
            "metadata": {
                "id": "Kv_wdyLkb-UW"
            }
        },
        {
            "cell_type": "code",
            "source": [
                "import math\n",
                "\n",
                "\n",
                "def is_number(n):\n",
                "    n = str(n)\n",
                "    if not n.isnumeric():\n",
                "        return False\n",
                "    return True"
            ],
            "metadata": {
                "id": "gd_6VW9qb92w"
            },
            "execution_count": null,
            "outputs": []
        },
        {
            "cell_type": "code",
            "source": [
                "assert is_number(3) == 1.0\n",
                "assert is_number('-2a') == 0.0\n",
                "print(is_number(1))\n",
                "print(is_number('n'))"
            ],
            "metadata": {
                "colab": {
                    "base_uri": "https://localhost:8080/"
                },
                "id": "IvJvIX18c9l8",
                "outputId": "d4238ffb-f7bc-4871-8ab5-3c52de387a75"
            },
            "execution_count": null,
            "outputs": [
                {
                    "output_type": "stream",
                    "name": "stdout",
                    "text": [
                        "True\n",
                        "False\n"
                    ]
                }
            ]
        },
        {
            "cell_type": "code",
            "source": [
                "answer('b')"
            ],
            "metadata": {
                "id": "HRe34UsCc_0g"
            },
            "execution_count": null,
            "outputs": []
        },
        {
            "cell_type": "markdown",
            "source": [
                "## Câu 3"
            ],
            "metadata": {
                "id": "rqkHUCIRzxPa"
            }
        },
        {
            "cell_type": "code",
            "source": [
                "x = -2.0\n",
                "\n",
                "if x <= 0:\n",
                "    y = 0.0\n",
                "else:\n",
                "    y = x\n",
                "\n",
                "print(y)"
            ],
            "metadata": {
                "colab": {
                    "base_uri": "https://localhost:8080/"
                },
                "id": "kiCTo12EzyuP",
                "outputId": "73d46281-e98e-4b85-f006-25c864bfc4fa"
            },
            "execution_count": null,
            "outputs": [
                {
                    "output_type": "stream",
                    "name": "stdout",
                    "text": [
                        "0.0\n"
                    ]
                }
            ]
        },
        {
            "cell_type": "code",
            "source": [
                "answer('c')"
            ],
            "metadata": {
                "id": "5vsKJkWez69g"
            },
            "execution_count": null,
            "outputs": []
        },
        {
            "cell_type": "markdown",
            "source": [
                "## Câu 4"
            ],
            "metadata": {
                "id": "IfSTWqBu0IO-"
            }
        },
        {
            "cell_type": "code",
            "source": [
                "import math\n",
                "\n",
                "\n",
                "def calc_sig(x):\n",
                "    return 1 / (1 + math.e ** -x)\n",
                "\n",
                "\n",
                "assert round(calc_sig(3), 2) == 0.95\n",
                "print(round(calc_sig(2), 2))"
            ],
            "metadata": {
                "colab": {
                    "base_uri": "https://localhost:8080/"
                },
                "id": "inqa9QGj0H1T",
                "outputId": "afb4ed2e-8d0c-4258-b54a-c229cf8d795e"
            },
            "execution_count": null,
            "outputs": [
                {
                    "output_type": "stream",
                    "name": "stdout",
                    "text": [
                        "0.88\n"
                    ]
                }
            ]
        },
        {
            "cell_type": "code",
            "source": [
                "answer('a')"
            ],
            "metadata": {
                "id": "FgHQYEVd0bYv"
            },
            "execution_count": null,
            "outputs": []
        },
        {
            "cell_type": "markdown",
            "source": [
                "## Câu 5"
            ],
            "metadata": {
                "id": "da0Ihoon0eE6"
            }
        },
        {
            "cell_type": "code",
            "source": [
                "import math\n",
                "\n",
                "alpha = 0.01\n",
                "\n",
                "\n",
                "def calc_elu(x):\n",
                "    return x if x > 0 else alpha * (math.e ** x - 1)\n",
                "\n",
                "\n",
                "assert round(calc_elu(1)) == 1\n",
                "print(round(calc_elu(-1), 2))"
            ],
            "metadata": {
                "colab": {
                    "base_uri": "https://localhost:8080/"
                },
                "id": "HQazGmKf0dpQ",
                "outputId": "c9c3a6d5-689d-473e-a323-4d2170f10562"
            },
            "execution_count": null,
            "outputs": [
                {
                    "output_type": "stream",
                    "name": "stdout",
                    "text": [
                        "-0.01\n"
                    ]
                }
            ]
        },
        {
            "cell_type": "code",
            "source": [
                "answer('b')"
            ],
            "metadata": {
                "id": "Y8kMYYDm00J0"
            },
            "execution_count": null,
            "outputs": []
        },
        {
            "cell_type": "markdown",
            "source": [
                "## Câu 6"
            ],
            "metadata": {
                "id": "5clsA0y102-h"
            }
        },
        {
            "cell_type": "code",
            "source": [
                "import math\n",
                "\n",
                "alpha = 0.01\n",
                "\n",
                "\n",
                "def calc_activation_func(x, act_name):\n",
                "    if act_name == 'sigmoid':\n",
                "        return 1 / (1 + math.e ** -x)\n",
                "    elif act_name == 'relu':\n",
                "        return 0 if x <= 0 else x\n",
                "    elif act_name == 'elu':\n",
                "        return x if x > 0 else alpha * (math.e ** x - 1)\n",
                "\n",
                "\n",
                "assert calc_activation_func(x=1, act_name='relu') == 1\n",
                "print(round(calc_activation_func(x=3, act_name='sigmoid'), 2))"
            ],
            "metadata": {
                "colab": {
                    "base_uri": "https://localhost:8080/"
                },
                "id": "Y2cyFvdh02X1",
                "outputId": "c29f401f-66c7-42d5-8dba-cdd7aaac43f3"
            },
            "execution_count": null,
            "outputs": [
                {
                    "output_type": "stream",
                    "name": "stdout",
                    "text": [
                        "0.95\n"
                    ]
                }
            ]
        },
        {
            "cell_type": "code",
            "source": [
                "answer('a')"
            ],
            "metadata": {
                "id": "upCJ5G3X1hXm"
            },
            "execution_count": null,
            "outputs": []
        },
        {
            "cell_type": "markdown",
            "source": [
                "## Câu 7"
            ],
            "metadata": {
                "id": "NtKTfFXU1koD"
            }
        },
        {
            "cell_type": "code",
            "source": [
                "def calc_ae(y, y_hat):\n",
                "    return abs(y - y_hat)\n",
                "\n",
                "\n",
                "y = 1\n",
                "y_hat = 6\n",
                "assert calc_ae(y, y_hat) == 5\n",
                "\n",
                "y = 2\n",
                "y_hat = 9\n",
                "print(calc_ae(y, y_hat))"
            ],
            "metadata": {
                "colab": {
                    "base_uri": "https://localhost:8080/"
                },
                "id": "agMc86qH1kPS",
                "outputId": "50b4e06d-154a-4098-d06c-b0bfe71f2fa5"
            },
            "execution_count": null,
            "outputs": [
                {
                    "output_type": "stream",
                    "name": "stdout",
                    "text": [
                        "7\n"
                    ]
                }
            ]
        },
        {
            "cell_type": "code",
            "source": [
                "answer('a')"
            ],
            "metadata": {
                "id": "voH1FCNP17LM"
            },
            "execution_count": null,
            "outputs": []
        },
        {
            "cell_type": "markdown",
            "source": [
                "## Câu 8"
            ],
            "metadata": {
                "id": "r7bFRnml19Rl"
            }
        },
        {
            "cell_type": "code",
            "source": [
                "def calc_se(y, y_hat):\n",
                "    return (y - y_hat) ** 2\n",
                "\n",
                "\n",
                "y = 4\n",
                "y_hat = 2\n",
                "\n",
                "assert calc_se(y, y_hat) == 4\n",
                "print(calc_se(2, 1))"
            ],
            "metadata": {
                "colab": {
                    "base_uri": "https://localhost:8080/"
                },
                "id": "gU6Ao7SI18tJ",
                "outputId": "957ec355-f51e-4431-d061-f773a41cb31f"
            },
            "execution_count": null,
            "outputs": [
                {
                    "output_type": "stream",
                    "name": "stdout",
                    "text": [
                        "1\n"
                    ]
                }
            ]
        },
        {
            "cell_type": "code",
            "source": [
                "answer('a')"
            ],
            "metadata": {
                "id": "ysZ25CXv21Wl"
            },
            "execution_count": null,
            "outputs": []
        },
        {
            "cell_type": "code",
            "source": [
                "def factorial(n):\n",
                "    if n == 0 or n == 1:\n",
                "        return 1\n",
                "\n",
                "    result = 1\n",
                "\n",
                "    for i in range(1, n + 1):\n",
                "        result *= i\n",
                "\n",
                "    return result"
            ],
            "metadata": {
                "id": "ITb-2MSf3UhR"
            },
            "execution_count": null,
            "outputs": []
        },
        {
            "cell_type": "markdown",
            "source": [
                "## Câu 9"
            ],
            "metadata": {
                "id": "qvR1Nj9824Hy"
            }
        },
        {
            "cell_type": "code",
            "source": [
                "def approx_cos(x, n):\n",
                "    result = 0\n",
                "\n",
                "    for i in range(n + 1):\n",
                "        result += (-1) ** i * (x ** (2 * i)) / factorial(2 * i)\n",
                "\n",
                "    return result\n",
                "\n",
                "\n",
                "assert round(approx_cos(x=1, n=10), 2) == 0.54\n",
                "print(round(approx_cos(x=3.14, n=10), 2))"
            ],
            "metadata": {
                "colab": {
                    "base_uri": "https://localhost:8080/"
                },
                "id": "6cpyh8C33KxI",
                "outputId": "0711fa2d-4235-4285-ec43-3a6719c80721"
            },
            "execution_count": null,
            "outputs": [
                {
                    "output_type": "stream",
                    "name": "stdout",
                    "text": [
                        "-1.0\n"
                    ]
                }
            ]
        },
        {
            "cell_type": "code",
            "source": [
                "answer('c')"
            ],
            "metadata": {
                "id": "dgrVG3193j3D"
            },
            "execution_count": null,
            "outputs": []
        },
        {
            "cell_type": "markdown",
            "source": [
                "## Câu 10"
            ],
            "metadata": {
                "id": "_-nI7cpJ3LPc"
            }
        },
        {
            "cell_type": "code",
            "source": [
                "def approx_sin(x, n):\n",
                "    result = 0\n",
                "\n",
                "    for i in range(n + 1):\n",
                "        result += (-1) ** i * (x ** (2 * i + 1)) / factorial(2 * i + 1)\n",
                "\n",
                "    return result\n",
                "\n",
                "\n",
                "assert round(approx_sin(x=1, n=10), 4) == 0.8415\n",
                "print(round(approx_sin(x=3.14, n=10), 4))"
            ],
            "metadata": {
                "colab": {
                    "base_uri": "https://localhost:8080/"
                },
                "id": "rQWGTo6A23i4",
                "outputId": "54d5afd1-8100-49ef-c82e-3cd8ad06f600"
            },
            "execution_count": null,
            "outputs": [
                {
                    "output_type": "stream",
                    "name": "stdout",
                    "text": [
                        "0.0016\n"
                    ]
                }
            ]
        },
        {
            "cell_type": "code",
            "source": [
                "answer('a')"
            ],
            "metadata": {
                "id": "UoKKwfWt3z26"
            },
            "execution_count": null,
            "outputs": []
        },
        {
            "cell_type": "markdown",
            "source": [
                "## Câu 11"
            ],
            "metadata": {
                "id": "dovsRpGP32Yv"
            }
        },
        {
            "cell_type": "code",
            "source": [
                "def approx_sinh(x, n):\n",
                "    result = 0\n",
                "\n",
                "    for i in range(n + 1):\n",
                "        result += (x ** (2 * i + 1)) / factorial(2 * i + 1)\n",
                "\n",
                "    return result\n",
                "\n",
                "\n",
                "assert round(approx_sinh(x=1, n=10), 2) == 1.18\n",
                "print(round(approx_sinh(x=3.14, n=10), 2))"
            ],
            "metadata": {
                "id": "3vCC0X7F314v",
                "colab": {
                    "base_uri": "https://localhost:8080/"
                },
                "outputId": "372af100-5683-4fc3-c68a-5dd5b7fea6ff"
            },
            "execution_count": null,
            "outputs": [
                {
                    "output_type": "stream",
                    "name": "stdout",
                    "text": [
                        "11.53\n"
                    ]
                }
            ]
        },
        {
            "cell_type": "code",
            "source": [
                "answer('a')"
            ],
            "metadata": {
                "id": "uulVmFH9sS-2"
            },
            "execution_count": null,
            "outputs": []
        },
        {
            "cell_type": "markdown",
            "source": [
                "## Câu 12"
            ],
            "metadata": {
                "id": "8jWr6PcxsY8W"
            }
        },
        {
            "cell_type": "code",
            "source": [
                "def approx_cosh(x, n):\n",
                "    result = 0\n",
                "\n",
                "    for i in range(n + 1):\n",
                "        result += (x ** (2 * i)) / factorial(2 * i)\n",
                "\n",
                "    return result\n",
                "\n",
                "\n",
                "assert round(approx_cosh(x=1, n=10), 2) == 1.54\n",
                "print(round(approx_cosh(x=3.14, n=10), 2))"
            ],
            "metadata": {
                "colab": {
                    "base_uri": "https://localhost:8080/"
                },
                "id": "YtqW1AJXsZp9",
                "outputId": "520c1914-aeab-4d61-e71a-6cbf68da5233"
            },
            "execution_count": null,
            "outputs": [
                {
                    "output_type": "stream",
                    "name": "stdout",
                    "text": [
                        "11.57\n"
                    ]
                }
            ]
        },
        {
            "cell_type": "code",
            "source": [
                "answer('a')"
            ],
            "metadata": {
                "id": "6F8R8bmAsgt3"
            },
            "execution_count": null,
            "outputs": []
        },
        {
            "cell_type": "markdown",
            "source": [
                "## Câu 13"
            ],
            "metadata": {
                "id": "Pxcra3-AskNH"
            }
        },
        {
            "cell_type": "code",
            "source": [
                "def md_nre_single_sample(y, y_hat, n, p):\n",
                "    y_root = y ** (1 / n)\n",
                "    y_hat_root = y_hat ** (1 / n)\n",
                "    difference = y_root - y_hat_root\n",
                "    loss = difference ** p\n",
                "\n",
                "    return loss"
            ],
            "metadata": {
                "id": "QDSLpdpbsjx2"
            },
            "execution_count": null,
            "outputs": []
        },
        {
            "cell_type": "code",
            "source": [
                "answer('a')"
            ],
            "metadata": {
                "id": "MgeUVfEJtFdK"
            },
            "execution_count": null,
            "outputs": []
        },
        {
            "cell_type": "code",
            "source": [
                "for idx, ans in enumerate(final_answer):\n",
                "    print(f'Câu {idx + 1}: {ans}')"
            ],
            "metadata": {
                "colab": {
                    "base_uri": "https://localhost:8080/"
                },
                "id": "_D__JjM5tNZW",
                "outputId": "83ce08e1-f2b4-4603-c55c-796380c2db2d"
            },
            "execution_count": null,
            "outputs": [
                {
                    "output_type": "stream",
                    "name": "stdout",
                    "text": [
                        "Câu 1: c\n",
                        "Câu 2: b\n",
                        "Câu 3: c\n",
                        "Câu 4: a\n",
                        "Câu 5: b\n",
                        "Câu 6: a\n",
                        "Câu 7: a\n",
                        "Câu 8: a\n",
                        "Câu 9: c\n",
                        "Câu 10: a\n",
                        "Câu 11: a\n",
                        "Câu 12: a\n",
                        "Câu 13: a\n"
                    ]
                }
            ]
        }
    ]
}