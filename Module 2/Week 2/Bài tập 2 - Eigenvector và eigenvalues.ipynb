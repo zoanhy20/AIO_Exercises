{
 "cells": [
  {
   "metadata": {},
   "cell_type": "markdown",
   "source": [
    "Cho trước $A = \\begin{bmatrix}\n",
    "0.9 & 0.2 \\\\\n",
    "0.1 & 0.8\n",
    "\\end{bmatrix}$\n",
    "\n",
    "Tìm Eigenvector ($\\mathbf{v}$) đã được normalize và eigenvalue $\\lambda$ của $A$\n"
   ],
   "id": "a4e8d2c4ef955578"
  },
  {
   "cell_type": "code",
   "id": "initial_id",
   "metadata": {
    "collapsed": true,
    "ExecuteTime": {
     "end_time": "2024-07-21T08:01:26.856574Z",
     "start_time": "2024-07-21T08:01:26.782932Z"
    }
   },
   "source": [
    "import numpy as np\n",
    "\n",
    "def compute_eigenvalues_eigenvectors(matrix):\n",
    "    eigenvalues, eigenvectors = np.linalg.eig(matrix)\n",
    "    \n",
    "    return eigenvalues, eigenvectors"
   ],
   "outputs": [],
   "execution_count": 1
  },
  {
   "metadata": {
    "ExecuteTime": {
     "end_time": "2024-07-21T14:40:52.951353Z",
     "start_time": "2024-07-21T14:40:52.596811Z"
    }
   },
   "cell_type": "code",
   "source": "compute_eigenvalues_eigenvectors(np.array([[4, 1], [2, 3]]))",
   "id": "1e96ce25ab110012",
   "outputs": [
    {
     "ename": "NameError",
     "evalue": "name 'compute_eigenvalues_eigenvectors' is not defined",
     "output_type": "error",
     "traceback": [
      "\u001B[0;31m---------------------------------------------------------------------------\u001B[0m",
      "\u001B[0;31mNameError\u001B[0m                                 Traceback (most recent call last)",
      "Cell \u001B[0;32mIn[1], line 1\u001B[0m\n\u001B[0;32m----> 1\u001B[0m compute_eigenvalues_eigenvectors(np\u001B[38;5;241m.\u001B[39marray([[\u001B[38;5;241m4\u001B[39m, \u001B[38;5;241m1\u001B[39m], [\u001B[38;5;241m2\u001B[39m, \u001B[38;5;241m3\u001B[39m]]))\n",
      "\u001B[0;31mNameError\u001B[0m: name 'compute_eigenvalues_eigenvectors' is not defined"
     ]
    }
   ],
   "execution_count": 1
  },
  {
   "metadata": {},
   "cell_type": "code",
   "outputs": [],
   "execution_count": null,
   "source": "",
   "id": "d46ced5804aa2683"
  }
 ],
 "metadata": {
  "kernelspec": {
   "display_name": "Python 3",
   "language": "python",
   "name": "python3"
  },
  "language_info": {
   "codemirror_mode": {
    "name": "ipython",
    "version": 2
   },
   "file_extension": ".py",
   "mimetype": "text/x-python",
   "name": "python",
   "nbconvert_exporter": "python",
   "pygments_lexer": "ipython2",
   "version": "2.7.6"
  }
 },
 "nbformat": 4,
 "nbformat_minor": 5
}
