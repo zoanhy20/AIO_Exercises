{
 "cells": [
  {
   "metadata": {},
   "cell_type": "markdown",
   "source": "## a. Độ dài vector",
   "id": "50a7376de81df939"
  },
  {
   "metadata": {
    "ExecuteTime": {
     "end_time": "2024-07-21T13:22:17.263014Z",
     "start_time": "2024-07-21T13:22:17.260179Z"
    }
   },
   "cell_type": "code",
   "source": [
    "import numpy as np\n",
    "\n",
    "# ver 1\n",
    "def compute_vector_length_v1(vector):\n",
    "    norm = np.sqrt(np.sum([v ** 2 for v in vector]))\n",
    "    return norm\n",
    "\n",
    "# ver 2\n",
    "def compute_vector_length_v2(vector):\n",
    "    len_of_vector = np.linalg.norm(vector)\n",
    "    return len_of_vector"
   ],
   "id": "368326dfefe9587a",
   "outputs": [],
   "execution_count": 4
  },
  {
   "metadata": {
    "ExecuteTime": {
     "end_time": "2024-07-21T13:22:18.772007Z",
     "start_time": "2024-07-21T13:22:18.767755Z"
    }
   },
   "cell_type": "code",
   "source": "compute_vector_length_v1(np.array([3, 4]))",
   "id": "2e6aaeb9c978ad10",
   "outputs": [
    {
     "data": {
      "text/plain": [
       "np.float64(5.0)"
      ]
     },
     "execution_count": 5,
     "metadata": {},
     "output_type": "execute_result"
    }
   ],
   "execution_count": 5
  },
  {
   "metadata": {
    "ExecuteTime": {
     "end_time": "2024-07-21T13:22:21.685109Z",
     "start_time": "2024-07-21T13:22:21.680992Z"
    }
   },
   "cell_type": "code",
   "source": "compute_vector_length_v2(np.array([3, 4]))",
   "id": "21c36a0078ec3555",
   "outputs": [
    {
     "data": {
      "text/plain": [
       "np.float64(5.0)"
      ]
     },
     "execution_count": 6,
     "metadata": {},
     "output_type": "execute_result"
    }
   ],
   "execution_count": 6
  },
  {
   "metadata": {},
   "cell_type": "markdown",
   "source": "## b. Phép tích vô hướng",
   "id": "1abc4a0752ad1a9e"
  },
  {
   "metadata": {
    "ExecuteTime": {
     "end_time": "2024-07-21T13:28:31.380149Z",
     "start_time": "2024-07-21T13:28:31.376899Z"
    }
   },
   "cell_type": "code",
   "source": [
    "import numpy as np\n",
    "\n",
    "def compute_dot_product_v1(vector1, vector2):\n",
    "    result = np.dot(vector1, vector2)\n",
    "    return result\n",
    "\n",
    "def compute_dot_product_v2(vector1, vector2):\n",
    "    result = np.sum([v1 * v2 for v1, v2 in zip(vector1, vector2)])\n",
    "    return result"
   ],
   "id": "b95104fac68f13ff",
   "outputs": [],
   "execution_count": 11
  },
  {
   "metadata": {
    "ExecuteTime": {
     "end_time": "2024-07-21T13:28:32.444313Z",
     "start_time": "2024-07-21T13:28:32.438258Z"
    }
   },
   "cell_type": "code",
   "source": "compute_dot_product_v1(np.array([3, 4]), np.array([4, 5]))",
   "id": "4790e147e7a54a74",
   "outputs": [
    {
     "data": {
      "text/plain": [
       "np.int64(32)"
      ]
     },
     "execution_count": 12,
     "metadata": {},
     "output_type": "execute_result"
    }
   ],
   "execution_count": 12
  },
  {
   "metadata": {
    "ExecuteTime": {
     "end_time": "2024-07-21T13:28:20.117040Z",
     "start_time": "2024-07-21T13:28:20.111824Z"
    }
   },
   "cell_type": "code",
   "source": "compute_dot_product_v2(np.array([3, 4]), np.array([4, 5]))",
   "id": "82e98d88fe81117f",
   "outputs": [
    {
     "data": {
      "text/plain": [
       "np.int64(32)"
      ]
     },
     "execution_count": 9,
     "metadata": {},
     "output_type": "execute_result"
    }
   ],
   "execution_count": 9
  },
  {
   "metadata": {},
   "cell_type": "markdown",
   "source": "## c. Nhân vector với ma trận",
   "id": "5d229b4be74a7129"
  },
  {
   "metadata": {
    "ExecuteTime": {
     "end_time": "2024-07-21T13:32:04.699675Z",
     "start_time": "2024-07-21T13:32:04.696374Z"
    }
   },
   "cell_type": "code",
   "source": [
    "import numpy as np\n",
    "\n",
    "def matrix_multi_vector_v1(matrix, vector):\n",
    "    result = np.array([np.sum([v1 * v2 for v1, v2 in zip(v, vector)]) for v in matrix])\n",
    "    return result\n",
    "\n",
    "def matrix_multi_vector_v2(matrix, vector):\n",
    "    result = np.dot(matrix, vector)\n",
    "    return result"
   ],
   "id": "d87eca0e4973854e",
   "outputs": [],
   "execution_count": 21
  },
  {
   "metadata": {
    "ExecuteTime": {
     "end_time": "2024-07-21T13:32:05.574709Z",
     "start_time": "2024-07-21T13:32:05.570792Z"
    }
   },
   "cell_type": "code",
   "source": "matrix_multi_vector_v1(np.array([[1, 2], [3, 4]]), np.array([5, 6]))",
   "id": "4f0f0c1293a0d010",
   "outputs": [
    {
     "data": {
      "text/plain": [
       "array([17, 39])"
      ]
     },
     "execution_count": 22,
     "metadata": {},
     "output_type": "execute_result"
    }
   ],
   "execution_count": 22
  },
  {
   "metadata": {
    "ExecuteTime": {
     "end_time": "2024-07-21T13:32:06.892828Z",
     "start_time": "2024-07-21T13:32:06.887257Z"
    }
   },
   "cell_type": "code",
   "source": "matrix_multi_vector_v2(np.array([[1, 2], [3, 4]]), np.array([5, 6]))",
   "id": "9d4629550ae49762",
   "outputs": [
    {
     "data": {
      "text/plain": [
       "array([17, 39])"
      ]
     },
     "execution_count": 23,
     "metadata": {},
     "output_type": "execute_result"
    }
   ],
   "execution_count": 23
  },
  {
   "metadata": {},
   "cell_type": "markdown",
   "source": "## d. Nhân ma trận với ma trận",
   "id": "94f214fef53ec9e1"
  },
  {
   "metadata": {
    "ExecuteTime": {
     "end_time": "2024-07-21T13:32:13.727561Z",
     "start_time": "2024-07-21T13:32:13.723726Z"
    }
   },
   "cell_type": "code",
   "source": [
    "import numpy as np\n",
    "\n",
    "def matrix_multi_matrix(matrix1, matrix2):\n",
    "    \n",
    "    result = np.dot(matrix1, matrix2)\n",
    "    \n",
    "    return result"
   ],
   "id": "bff4adf372976e6",
   "outputs": [],
   "execution_count": 24
  },
  {
   "metadata": {
    "ExecuteTime": {
     "end_time": "2024-07-21T13:32:18.645789Z",
     "start_time": "2024-07-21T13:32:18.640051Z"
    }
   },
   "cell_type": "code",
   "source": "matrix_multi_matrix(np.array([[1, 2], [3, 4]]), np.array([[5, 6], [7, 8]]))",
   "id": "9b9382398bc627ad",
   "outputs": [
    {
     "data": {
      "text/plain": [
       "array([[19, 22],\n",
       "       [43, 50]])"
      ]
     },
     "execution_count": 25,
     "metadata": {},
     "output_type": "execute_result"
    }
   ],
   "execution_count": 25
  },
  {
   "metadata": {},
   "cell_type": "markdown",
   "source": [
    "## e. Ma trận nghịch đảo\n",
    "\n",
    "Cho trước $A = \\begin{bmatrix}\n",
    "-2 & 6 \\\\\n",
    "8 & -4 \n",
    "\\end{bmatrix}$ Tìm $A^{-1}$.\n",
    "\n",
    "\n"
   ],
   "id": "dec6c8255e207026"
  },
  {
   "metadata": {},
   "cell_type": "markdown",
   "source": [
    "Giải:\n",
    "\n",
    "${det(A)$ = $-2 * -4 - 8 * 6 = -40$<br>\n",
    "\n",
    "$A^{-1} = \\frac{1}{-40} \\begin{bmatrix}\n",
    "-4 & -6 \\\\\n",
    "-8 & -2\n",
    "\\end{bmatrix} = \\begin{bmatrix}\n",
    "0.1 & 0.15 \\\\\n",
    "0.2 & 0.05\n",
    "\\end{bmatrix}$\n"
   ],
   "id": "7b667b94635395df"
  },
  {
   "metadata": {
    "ExecuteTime": {
     "end_time": "2024-07-21T14:42:22.511763Z",
     "start_time": "2024-07-21T14:42:22.508188Z"
    }
   },
   "cell_type": "code",
   "source": [
    "import numpy as np\n",
    "\n",
    "def inverse_matrix(matrix):\n",
    "    result = np.linalg.inv(matrix)\n",
    "    \n",
    "    return result"
   ],
   "id": "bfbac98a0344105",
   "outputs": [],
   "execution_count": 26
  },
  {
   "metadata": {
    "ExecuteTime": {
     "end_time": "2024-07-21T14:42:30.280755Z",
     "start_time": "2024-07-21T14:42:30.274577Z"
    }
   },
   "cell_type": "code",
   "source": "inverse_matrix(np.array([[1, 2], [3, 4]]))",
   "id": "82e0b8f071739b3c",
   "outputs": [
    {
     "data": {
      "text/plain": [
       "array([[-2. ,  1. ],\n",
       "       [ 1.5, -0.5]])"
      ]
     },
     "execution_count": 27,
     "metadata": {},
     "output_type": "execute_result"
    }
   ],
   "execution_count": 27
  },
  {
   "metadata": {},
   "cell_type": "code",
   "outputs": [],
   "execution_count": null,
   "source": "",
   "id": "b9a54d6eb5030d5"
  }
 ],
 "metadata": {
  "kernelspec": {
   "display_name": "Python 3",
   "language": "python",
   "name": "python3"
  },
  "language_info": {
   "codemirror_mode": {
    "name": "ipython",
    "version": 2
   },
   "file_extension": ".py",
   "mimetype": "text/x-python",
   "name": "python",
   "nbconvert_exporter": "python",
   "pygments_lexer": "ipython2",
   "version": "2.7.6"
  }
 },
 "nbformat": 4,
 "nbformat_minor": 5
}
