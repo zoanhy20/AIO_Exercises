{
 "cells": [
  {
   "cell_type": "code",
   "id": "initial_id",
   "metadata": {
    "collapsed": true,
    "ExecuteTime": {
     "end_time": "2024-07-21T08:39:07.662476Z",
     "start_time": "2024-07-21T08:39:07.657821Z"
    }
   },
   "source": [
    "final_answer = []\n",
    "\n",
    "def answer(choice):\n",
    "    final_answer.append(choice)"
   ],
   "outputs": [],
   "execution_count": 1
  },
  {
   "metadata": {},
   "cell_type": "markdown",
   "source": "## Câu 1",
   "id": "447bacf5615a6408"
  },
  {
   "metadata": {
    "ExecuteTime": {
     "end_time": "2024-07-21T08:40:54.048178Z",
     "start_time": "2024-07-21T08:40:54.006103Z"
    }
   },
   "cell_type": "code",
   "source": [
    "import numpy as np\n",
    "\n",
    "def compute_vector_length(vector):\n",
    "    len_of_vector = np.linalg.norm(vector)\n",
    "    return len_of_vector"
   ],
   "id": "18b8c575e383895f",
   "outputs": [],
   "execution_count": 2
  },
  {
   "metadata": {
    "ExecuteTime": {
     "end_time": "2024-07-21T08:41:19.464441Z",
     "start_time": "2024-07-21T08:41:19.458540Z"
    }
   },
   "cell_type": "code",
   "source": [
    "vector = np.array([-2, 4, 9, 21])\n",
    "result = compute_vector_length([vector])\n",
    "print(round(result, 2))"
   ],
   "id": "484683194974aefc",
   "outputs": [
    {
     "name": "stdout",
     "output_type": "stream",
     "text": [
      "23.28\n"
     ]
    }
   ],
   "execution_count": 3
  },
  {
   "metadata": {
    "ExecuteTime": {
     "end_time": "2024-07-21T08:42:10.902475Z",
     "start_time": "2024-07-21T08:42:10.899177Z"
    }
   },
   "cell_type": "code",
   "source": "answer('d')",
   "id": "a48b8dbd95dcb026",
   "outputs": [],
   "execution_count": 4
  },
  {
   "metadata": {},
   "cell_type": "markdown",
   "source": "## Câu 2",
   "id": "e0651a7a1945e513"
  },
  {
   "metadata": {
    "ExecuteTime": {
     "end_time": "2024-07-21T08:42:49.029372Z",
     "start_time": "2024-07-21T08:42:49.026542Z"
    }
   },
   "cell_type": "code",
   "source": [
    "import numpy as np\n",
    "\n",
    "def compute_dot_product(vector1, vector2):\n",
    "    result = np.dot(vector1, vector2)\n",
    "    return result"
   ],
   "id": "1cd015bf9e5d7151",
   "outputs": [],
   "execution_count": 5
  },
  {
   "metadata": {
    "ExecuteTime": {
     "end_time": "2024-07-21T08:44:10.589163Z",
     "start_time": "2024-07-21T08:44:10.583017Z"
    }
   },
   "cell_type": "code",
   "source": [
    "v1 = np.array([0, 1, -1, 2])\n",
    "v2 = np.array([2, 5, 1, 0])\n",
    "\n",
    "result = compute_dot_product(v1, v2)\n",
    "print(round(result, 2))"
   ],
   "id": "f1b9db6079ab63ff",
   "outputs": [
    {
     "name": "stdout",
     "output_type": "stream",
     "text": [
      "4\n"
     ]
    }
   ],
   "execution_count": 6
  },
  {
   "metadata": {
    "ExecuteTime": {
     "end_time": "2024-07-21T08:44:17.086183Z",
     "start_time": "2024-07-21T08:44:17.082384Z"
    }
   },
   "cell_type": "code",
   "source": "answer('b')",
   "id": "f1d7e402b00f338c",
   "outputs": [],
   "execution_count": 7
  },
  {
   "metadata": {},
   "cell_type": "markdown",
   "source": "## Câu 3",
   "id": "d6c68aef9aa2ac49"
  },
  {
   "metadata": {
    "ExecuteTime": {
     "end_time": "2024-07-21T08:45:31.668704Z",
     "start_time": "2024-07-21T08:45:31.663212Z"
    }
   },
   "cell_type": "code",
   "source": [
    "x = np.array([[1, 2], \n",
    "              [3, 4]])\n",
    "\n",
    "k = np.array([1, 2])\n",
    "print('result \\n', x.dot(k))"
   ],
   "id": "406585813e4dea51",
   "outputs": [
    {
     "name": "stdout",
     "output_type": "stream",
     "text": [
      "result \n",
      " [ 5 11]\n"
     ]
    }
   ],
   "execution_count": 8
  },
  {
   "metadata": {
    "ExecuteTime": {
     "end_time": "2024-07-21T08:45:39.127388Z",
     "start_time": "2024-07-21T08:45:39.124492Z"
    }
   },
   "cell_type": "code",
   "source": "answer('a')",
   "id": "3f53d979c7a8fd0b",
   "outputs": [],
   "execution_count": 9
  },
  {
   "metadata": {},
   "cell_type": "markdown",
   "source": "## Câu 4",
   "id": "d24a341004c04443"
  },
  {
   "metadata": {
    "ExecuteTime": {
     "end_time": "2024-07-21T08:46:06.976746Z",
     "start_time": "2024-07-21T08:46:06.971745Z"
    }
   },
   "cell_type": "code",
   "source": [
    "x = np.array([[-1, 2], \n",
    "              [3, -4]])\n",
    "\n",
    "k = np.array([1, 2])\n",
    "print('result \\n', x @ k)"
   ],
   "id": "62c8e6df3642b8e0",
   "outputs": [
    {
     "name": "stdout",
     "output_type": "stream",
     "text": [
      "result \n",
      " [ 3 -5]\n"
     ]
    }
   ],
   "execution_count": 10
  },
  {
   "metadata": {
    "ExecuteTime": {
     "end_time": "2024-07-21T08:46:11.435729Z",
     "start_time": "2024-07-21T08:46:11.431063Z"
    }
   },
   "cell_type": "code",
   "source": "answer('b')",
   "id": "b4b38a2935daabba",
   "outputs": [],
   "execution_count": 11
  },
  {
   "metadata": {},
   "cell_type": "markdown",
   "source": "## Câu 5",
   "id": "42b5a62c7e64fc3"
  },
  {
   "metadata": {
    "ExecuteTime": {
     "end_time": "2024-07-21T08:47:05.110248Z",
     "start_time": "2024-07-21T08:47:05.106055Z"
    }
   },
   "cell_type": "code",
   "source": [
    "def matrix_multi_vector(matrix, vector):\n",
    "    result = np.dot(matrix, vector)\n",
    "    return result"
   ],
   "id": "bf735177bca7d8d5",
   "outputs": [],
   "execution_count": 12
  },
  {
   "metadata": {
    "ExecuteTime": {
     "end_time": "2024-07-21T08:47:16.911063Z",
     "start_time": "2024-07-21T08:47:16.907921Z"
    }
   },
   "cell_type": "code",
   "source": [
    "m = np.array([[-1, 1, 1], [0, -4, 9]])\n",
    "v = np.array([0, 2, 1])\n",
    "\n",
    "result = matrix_multi_vector(m, v)\n",
    "print(result)"
   ],
   "id": "e1280a3d6dccc83c",
   "outputs": [
    {
     "name": "stdout",
     "output_type": "stream",
     "text": [
      "[3 1]\n"
     ]
    }
   ],
   "execution_count": 13
  },
  {
   "metadata": {
    "ExecuteTime": {
     "end_time": "2024-07-21T08:47:20.702727Z",
     "start_time": "2024-07-21T08:47:20.698702Z"
    }
   },
   "cell_type": "code",
   "source": "answer('a')",
   "id": "d6b82989ca8dc8ce",
   "outputs": [],
   "execution_count": 14
  },
  {
   "metadata": {},
   "cell_type": "markdown",
   "source": "## Câu 6",
   "id": "ef3d30838aa80bc6"
  },
  {
   "metadata": {
    "ExecuteTime": {
     "end_time": "2024-07-21T08:48:04.141305Z",
     "start_time": "2024-07-21T08:48:04.136941Z"
    }
   },
   "cell_type": "code",
   "source": [
    "def matrix_multi_matrix(matrix1, matrix2):\n",
    "    \n",
    "    result = np.dot(matrix1, matrix2)\n",
    "    \n",
    "    return result"
   ],
   "id": "66335df9f61b3906",
   "outputs": [],
   "execution_count": 15
  },
  {
   "metadata": {
    "ExecuteTime": {
     "end_time": "2024-07-21T08:48:11.530669Z",
     "start_time": "2024-07-21T08:48:11.527566Z"
    }
   },
   "cell_type": "code",
   "source": [
    "m1 = np.array([[0, 1, 2], [2, -3, 1]])\n",
    "m2 = np.array([[1, -3], [6, 1], [0, -1]])\n",
    "\n",
    "result = matrix_multi_matrix(m1, m2)    \n",
    "print(result)"
   ],
   "id": "8a530c952045532a",
   "outputs": [
    {
     "name": "stdout",
     "output_type": "stream",
     "text": [
      "[[  6  -1]\n",
      " [-16 -10]]\n"
     ]
    }
   ],
   "execution_count": 16
  },
  {
   "metadata": {
    "ExecuteTime": {
     "end_time": "2024-07-21T08:48:17.299997Z",
     "start_time": "2024-07-21T08:48:17.296629Z"
    }
   },
   "cell_type": "code",
   "source": "answer('c')",
   "id": "348578e022cfc5dd",
   "outputs": [],
   "execution_count": 17
  },
  {
   "metadata": {},
   "cell_type": "markdown",
   "source": "## Câu 7",
   "id": "b01aa3dbc4c44546"
  },
  {
   "metadata": {
    "ExecuteTime": {
     "end_time": "2024-07-21T08:48:54.487768Z",
     "start_time": "2024-07-21T08:48:54.481266Z"
    }
   },
   "cell_type": "code",
   "source": [
    "m1 = np.eye(3)\n",
    "m2 = np.array([[1, 1, 1], [2, 2, 2], [3, 3, 3]])\n",
    "\n",
    "result = m1 @ m2\n",
    "print(result)"
   ],
   "id": "28552a73b5b7a329",
   "outputs": [
    {
     "name": "stdout",
     "output_type": "stream",
     "text": [
      "[[1. 1. 1.]\n",
      " [2. 2. 2.]\n",
      " [3. 3. 3.]]\n"
     ]
    }
   ],
   "execution_count": 18
  },
  {
   "metadata": {
    "ExecuteTime": {
     "end_time": "2024-07-21T08:50:28.927208Z",
     "start_time": "2024-07-21T08:50:28.923324Z"
    }
   },
   "cell_type": "code",
   "source": "answer('a')",
   "id": "c67a977b377adf70",
   "outputs": [],
   "execution_count": 19
  },
  {
   "metadata": {},
   "cell_type": "markdown",
   "source": "## Câu 8",
   "id": "a37d7be323b5c207"
  },
  {
   "metadata": {
    "ExecuteTime": {
     "end_time": "2024-07-21T08:51:25.589590Z",
     "start_time": "2024-07-21T08:51:25.583469Z"
    }
   },
   "cell_type": "code",
   "source": [
    "m1 = np.eye(2)\n",
    "m1 = np.reshape(m1, (-1, 4))[0]\n",
    "m2 = np.array([[1, 1, 1, 1], [2, 2, 2, 2], [3, 3, 3, 3], [4, 4, 4, 4]])\n",
    "\n",
    "result = m1 @ m2\n",
    "print(result)"
   ],
   "id": "594bd5d25315ac83",
   "outputs": [
    {
     "name": "stdout",
     "output_type": "stream",
     "text": [
      "[5. 5. 5. 5.]\n"
     ]
    }
   ],
   "execution_count": 20
  },
  {
   "metadata": {
    "ExecuteTime": {
     "end_time": "2024-07-21T08:51:30.321703Z",
     "start_time": "2024-07-21T08:51:30.318181Z"
    }
   },
   "cell_type": "code",
   "source": "answer('d')",
   "id": "a077c0499f0ca78",
   "outputs": [],
   "execution_count": 21
  },
  {
   "metadata": {},
   "cell_type": "markdown",
   "source": "## Câu 9",
   "id": "46a6e90e92390dea"
  },
  {
   "metadata": {
    "ExecuteTime": {
     "end_time": "2024-07-21T08:52:35.834654Z",
     "start_time": "2024-07-21T08:52:35.829485Z"
    }
   },
   "cell_type": "code",
   "source": [
    "m1 = np.array([[1, 2], [3, 4]])\n",
    "m1 = np.reshape(m1, (-1, 4), 'F')[0]\n",
    "m2 = np.array([[1, 1, 1, 1], [2, 2, 2, 2], [3, 3, 3, 3], [4, 4, 4, 4]])\n",
    "\n",
    "result = m1 @ m2\n",
    "print(result)"
   ],
   "id": "75368955b480e420",
   "outputs": [
    {
     "name": "stdout",
     "output_type": "stream",
     "text": [
      "[29 29 29 29]\n"
     ]
    }
   ],
   "execution_count": 22
  },
  {
   "metadata": {
    "ExecuteTime": {
     "end_time": "2024-07-21T08:52:41.572545Z",
     "start_time": "2024-07-21T08:52:41.566865Z"
    }
   },
   "cell_type": "code",
   "source": "answer('b')",
   "id": "adfc82f9fdc30413",
   "outputs": [],
   "execution_count": 23
  },
  {
   "metadata": {},
   "cell_type": "markdown",
   "source": "## Câu 10",
   "id": "3bee660b19e0e1b3"
  },
  {
   "metadata": {
    "ExecuteTime": {
     "end_time": "2024-07-21T08:53:30.222539Z",
     "start_time": "2024-07-21T08:53:30.218205Z"
    }
   },
   "cell_type": "code",
   "source": [
    "import numpy as np\n",
    "\n",
    "def inverse_matrix(matrix):\n",
    "    result = np.linalg.inv(matrix)\n",
    "    \n",
    "    return result"
   ],
   "id": "d3d0faf4a225ef02",
   "outputs": [],
   "execution_count": 24
  },
  {
   "metadata": {
    "ExecuteTime": {
     "end_time": "2024-07-21T08:53:38.158584Z",
     "start_time": "2024-07-21T08:53:38.154959Z"
    }
   },
   "cell_type": "code",
   "source": [
    "m1 = np.array([[-2, 6], [8, -4]])\n",
    "result = inverse_matrix(m1)\n",
    "print(result)"
   ],
   "id": "a3aa4b7a939c31e",
   "outputs": [
    {
     "name": "stdout",
     "output_type": "stream",
     "text": [
      "[[0.1  0.15]\n",
      " [0.2  0.05]]\n"
     ]
    }
   ],
   "execution_count": 25
  },
  {
   "metadata": {
    "ExecuteTime": {
     "end_time": "2024-07-21T08:53:50.695874Z",
     "start_time": "2024-07-21T08:53:50.692783Z"
    }
   },
   "cell_type": "code",
   "source": "answer('a')",
   "id": "841b93571d2ba3b",
   "outputs": [],
   "execution_count": 26
  },
  {
   "metadata": {},
   "cell_type": "markdown",
   "source": "## Câu 11",
   "id": "554ba452219bbfc5"
  },
  {
   "metadata": {
    "ExecuteTime": {
     "end_time": "2024-07-21T08:54:16.845483Z",
     "start_time": "2024-07-21T08:54:16.840503Z"
    }
   },
   "cell_type": "code",
   "source": [
    "import numpy as np\n",
    "\n",
    "def compute_eigenvalues_eigenvectors(matrix):\n",
    "    eigenvalues, eigenvectors = np.linalg.eig(matrix)\n",
    "    \n",
    "    return eigenvalues, eigenvectors"
   ],
   "id": "b803561cbab110a4",
   "outputs": [],
   "execution_count": 27
  },
  {
   "metadata": {
    "ExecuteTime": {
     "end_time": "2024-07-21T08:54:55.092545Z",
     "start_time": "2024-07-21T08:54:55.089828Z"
    }
   },
   "cell_type": "code",
   "source": [
    "matrix = np.array([[0.9, 0.2], [0.1, 0.8]])\n",
    "eigenvalues, eigenvectors = compute_eigenvalues_eigenvectors(matrix)\n",
    "print(eigenvectors)"
   ],
   "id": "2eb9899cde6abb36",
   "outputs": [
    {
     "name": "stdout",
     "output_type": "stream",
     "text": [
      "[[ 0.89442719 -0.70710678]\n",
      " [ 0.4472136   0.70710678]]\n"
     ]
    }
   ],
   "execution_count": 28
  },
  {
   "metadata": {
    "ExecuteTime": {
     "end_time": "2024-07-21T08:55:00.351604Z",
     "start_time": "2024-07-21T08:55:00.348374Z"
    }
   },
   "cell_type": "code",
   "source": "answer('a')",
   "id": "4ed6035efd758f5b",
   "outputs": [],
   "execution_count": 29
  },
  {
   "metadata": {},
   "cell_type": "markdown",
   "source": "## Câu 12",
   "id": "58109e0de8ca9ee3"
  },
  {
   "metadata": {
    "ExecuteTime": {
     "end_time": "2024-07-21T08:55:43.109308Z",
     "start_time": "2024-07-21T08:55:43.105804Z"
    }
   },
   "cell_type": "code",
   "source": [
    "import numpy as np\n",
    "\n",
    "def compute_cosine(v1, v2):\n",
    "    cos_sim = np.dot(v1, v2) / (np.linalg.norm(v1) * np.linalg.norm(v2))\n",
    "    \n",
    "    return cos_sim"
   ],
   "id": "2b895dd391d43d11",
   "outputs": [],
   "execution_count": 30
  },
  {
   "metadata": {
    "ExecuteTime": {
     "end_time": "2024-07-21T08:55:59.231167Z",
     "start_time": "2024-07-21T08:55:59.228022Z"
    }
   },
   "cell_type": "code",
   "source": [
    "x = np.array([1, 2, 3, 4])\n",
    "y = np.array([1, 0, 3, 0])\n",
    "\n",
    "result = compute_cosine(x, y)\n",
    "print(round(result, 3))"
   ],
   "id": "191a6a0aaad2ac76",
   "outputs": [
    {
     "name": "stdout",
     "output_type": "stream",
     "text": [
      "0.577\n"
     ]
    }
   ],
   "execution_count": 31
  },
  {
   "metadata": {
    "ExecuteTime": {
     "end_time": "2024-07-21T08:56:07.709432Z",
     "start_time": "2024-07-21T08:56:07.706924Z"
    }
   },
   "cell_type": "code",
   "source": "answer('c')",
   "id": "4fba155ec2682cd8",
   "outputs": [],
   "execution_count": 32
  },
  {
   "metadata": {
    "ExecuteTime": {
     "end_time": "2024-07-21T08:57:22.272834Z",
     "start_time": "2024-07-21T08:57:22.270468Z"
    }
   },
   "cell_type": "code",
   "source": [
    "for idx, ans in enumerate(final_answer):\n",
    "    print(f'Câu {idx + 1}: {ans}')"
   ],
   "id": "845bcb78b8416f00",
   "outputs": [
    {
     "name": "stdout",
     "output_type": "stream",
     "text": [
      "Câu 1: d\n",
      "Câu 2: b\n",
      "Câu 3: a\n",
      "Câu 4: b\n",
      "Câu 5: a\n",
      "Câu 6: c\n",
      "Câu 7: a\n",
      "Câu 8: d\n",
      "Câu 9: b\n",
      "Câu 10: a\n",
      "Câu 11: a\n",
      "Câu 12: c\n"
     ]
    }
   ],
   "execution_count": 33
  },
  {
   "metadata": {},
   "cell_type": "code",
   "outputs": [],
   "execution_count": null,
   "source": "",
   "id": "60de9b8f17255436"
  }
 ],
 "metadata": {
  "kernelspec": {
   "display_name": "Python 3",
   "language": "python",
   "name": "python3"
  },
  "language_info": {
   "codemirror_mode": {
    "name": "ipython",
    "version": 2
   },
   "file_extension": ".py",
   "mimetype": "text/x-python",
   "name": "python",
   "nbconvert_exporter": "python",
   "pygments_lexer": "ipython2",
   "version": "2.7.6"
  }
 },
 "nbformat": 4,
 "nbformat_minor": 5
}
