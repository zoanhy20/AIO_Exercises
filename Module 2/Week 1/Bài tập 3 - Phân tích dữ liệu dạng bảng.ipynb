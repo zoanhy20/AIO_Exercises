{
 "cells": [
  {
   "cell_type": "code",
   "id": "initial_id",
   "metadata": {
    "collapsed": true,
    "ExecuteTime": {
     "end_time": "2024-07-14T18:25:13.678908Z",
     "start_time": "2024-07-14T18:25:13.674811Z"
    }
   },
   "source": [
    "final_answer = []\n",
    "\n",
    "def answer(choice):\n",
    "    final_answer.append(choice)"
   ],
   "outputs": [],
   "execution_count": 27
  },
  {
   "metadata": {
    "ExecuteTime": {
     "end_time": "2024-07-14T18:25:15.310500Z",
     "start_time": "2024-07-14T18:25:13.787406Z"
    }
   },
   "cell_type": "code",
   "source": "!pip install -q gdown",
   "id": "aad93ebbddc1afdb",
   "outputs": [],
   "execution_count": 28
  },
  {
   "metadata": {
    "ExecuteTime": {
     "end_time": "2024-07-14T18:25:20.054315Z",
     "start_time": "2024-07-14T18:25:15.313214Z"
    }
   },
   "cell_type": "code",
   "source": [
    "# Download data\n",
    "!gdown 1iA0WmVfW88HyJvTBSQDI5vesf-pgKabq"
   ],
   "id": "976921254179ed1b",
   "outputs": [
    {
     "name": "stdout",
     "output_type": "stream",
     "text": [
      "Downloading...\r\n",
      "From: https://drive.google.com/uc?id=1iA0WmVfW88HyJvTBSQDI5vesf-pgKabq\r\n",
      "To: /home/minhhuy/Documents/self_study/Course/AI24/AIO_Exercises/Module 2/Week 1/advertising.csv\r\n",
      "100%|██████████████████████████████████████| 4.06k/4.06k [00:00<00:00, 21.2MB/s]\r\n"
     ]
    }
   ],
   "execution_count": 29
  },
  {
   "metadata": {
    "ExecuteTime": {
     "end_time": "2024-07-14T18:25:20.067594Z",
     "start_time": "2024-07-14T18:25:20.057065Z"
    }
   },
   "cell_type": "code",
   "source": [
    "import pandas as pd\n",
    "import numpy as np\n",
    "\n",
    "df = pd.read_csv('advertising.csv')\n",
    "data = df.to_numpy()"
   ],
   "id": "8eeec5103a23cca8",
   "outputs": [],
   "execution_count": 30
  },
  {
   "metadata": {},
   "cell_type": "markdown",
   "source": "## Câu 15",
   "id": "4380d4d8c14e7ac4"
  },
  {
   "metadata": {
    "ExecuteTime": {
     "end_time": "2024-07-14T18:25:20.079069Z",
     "start_time": "2024-07-14T18:25:20.071072Z"
    }
   },
   "cell_type": "code",
   "source": "df['Sales']",
   "id": "593a6718c65e9a7e",
   "outputs": [
    {
     "data": {
      "text/plain": [
       "0      22.1\n",
       "1      10.4\n",
       "2      12.0\n",
       "3      16.5\n",
       "4      17.9\n",
       "       ... \n",
       "195     7.6\n",
       "196    14.0\n",
       "197    14.8\n",
       "198    25.5\n",
       "199    18.4\n",
       "Name: Sales, Length: 200, dtype: float64"
      ]
     },
     "execution_count": 31,
     "metadata": {},
     "output_type": "execute_result"
    }
   ],
   "execution_count": 31
  },
  {
   "metadata": {
    "ExecuteTime": {
     "end_time": "2024-07-14T18:25:20.084544Z",
     "start_time": "2024-07-14T18:25:20.080601Z"
    }
   },
   "cell_type": "code",
   "source": [
    "value_max = df['Sales'].max()\n",
    "index_max = df['Sales'].idxmax()\n",
    "\n",
    "print(f'Max: {value_max} - Index: {index_max}')"
   ],
   "id": "efff6208e8920835",
   "outputs": [
    {
     "name": "stdout",
     "output_type": "stream",
     "text": [
      "Max: 27.0 - Index: 175\n"
     ]
    }
   ],
   "execution_count": 32
  },
  {
   "metadata": {
    "ExecuteTime": {
     "end_time": "2024-07-14T18:25:20.092963Z",
     "start_time": "2024-07-14T18:25:20.086697Z"
    }
   },
   "cell_type": "code",
   "source": [
    "sales_data = data[:, 3]\n",
    "\n",
    "sales_max = np.max(sales_data)\n",
    "sales_index = np.argmax(sales_data)\n",
    "\n",
    "sales_max, sales_index"
   ],
   "id": "8100ac1b1770369c",
   "outputs": [
    {
     "data": {
      "text/plain": [
       "(np.float64(27.0), np.int64(175))"
      ]
     },
     "execution_count": 33,
     "metadata": {},
     "output_type": "execute_result"
    }
   ],
   "execution_count": 33
  },
  {
   "metadata": {
    "ExecuteTime": {
     "end_time": "2024-07-14T18:25:20.096842Z",
     "start_time": "2024-07-14T18:25:20.094247Z"
    }
   },
   "cell_type": "code",
   "source": "answer('c')",
   "id": "61236eb03d7c4898",
   "outputs": [],
   "execution_count": 34
  },
  {
   "metadata": {},
   "cell_type": "markdown",
   "source": "## Câu 16",
   "id": "573d4a7ed4f1a8b3"
  },
  {
   "metadata": {
    "ExecuteTime": {
     "end_time": "2024-07-14T18:25:20.104391Z",
     "start_time": "2024-07-14T18:25:20.098378Z"
    }
   },
   "cell_type": "code",
   "source": [
    "value_mean = df['TV'].mean()\n",
    "value_mean"
   ],
   "id": "77c97c9c96e53274",
   "outputs": [
    {
     "data": {
      "text/plain": [
       "np.float64(147.0425)"
      ]
     },
     "execution_count": 35,
     "metadata": {},
     "output_type": "execute_result"
    }
   ],
   "execution_count": 35
  },
  {
   "metadata": {
    "ExecuteTime": {
     "end_time": "2024-07-14T18:25:20.111735Z",
     "start_time": "2024-07-14T18:25:20.106039Z"
    }
   },
   "cell_type": "code",
   "source": [
    "tv_data = data[:, 0]\n",
    "tv_mean = np.mean(tv_data)\n",
    "tv_mean"
   ],
   "id": "114abf702e9a30f7",
   "outputs": [
    {
     "data": {
      "text/plain": [
       "np.float64(147.0425)"
      ]
     },
     "execution_count": 36,
     "metadata": {},
     "output_type": "execute_result"
    }
   ],
   "execution_count": 36
  },
  {
   "metadata": {
    "ExecuteTime": {
     "end_time": "2024-07-14T18:25:20.117355Z",
     "start_time": "2024-07-14T18:25:20.114135Z"
    }
   },
   "cell_type": "code",
   "source": "answer('b')",
   "id": "be57ce3d7dcba12e",
   "outputs": [],
   "execution_count": 37
  },
  {
   "metadata": {},
   "cell_type": "markdown",
   "source": "## Câu 17",
   "id": "1c54ee7e258af18a"
  },
  {
   "metadata": {
    "ExecuteTime": {
     "end_time": "2024-07-14T18:25:20.122975Z",
     "start_time": "2024-07-14T18:25:20.118407Z"
    }
   },
   "cell_type": "code",
   "source": [
    "count_gte_20 = df[df['Sales'] >= 20].shape[0]\n",
    "\n",
    "count_gte_20"
   ],
   "id": "410a5ae3c5d5ddd7",
   "outputs": [
    {
     "data": {
      "text/plain": [
       "40"
      ]
     },
     "execution_count": 38,
     "metadata": {},
     "output_type": "execute_result"
    }
   ],
   "execution_count": 38
  },
  {
   "metadata": {
    "ExecuteTime": {
     "end_time": "2024-07-14T18:25:20.127505Z",
     "start_time": "2024-07-14T18:25:20.124165Z"
    }
   },
   "cell_type": "code",
   "source": [
    "sales_data = data[:, 3]\n",
    "sales_counter = np.sum(sales_data >= 20)\n",
    "sales_counter"
   ],
   "id": "a34bb21ec8544d51",
   "outputs": [
    {
     "data": {
      "text/plain": [
       "np.int64(40)"
      ]
     },
     "execution_count": 39,
     "metadata": {},
     "output_type": "execute_result"
    }
   ],
   "execution_count": 39
  },
  {
   "metadata": {},
   "cell_type": "code",
   "source": "answer('a')",
   "id": "5a3ee75895ac2e62",
   "outputs": [],
   "execution_count": 40
  },
  {
   "metadata": {},
   "cell_type": "markdown",
   "source": "## Câu 18",
   "id": "e978cec4bf52d73"
  },
  {
   "metadata": {},
   "cell_type": "code",
   "source": [
    "value_mean_gte_15 = df[df['Sales'] >= 15]['Radio'].mean()\n",
    "\n",
    "value_mean_gte_15"
   ],
   "id": "bc45ef16678a6b33",
   "outputs": [
    {
     "data": {
      "text/plain": [
       "np.float64(26.22293577981651)"
      ]
     },
     "execution_count": 41,
     "metadata": {},
     "output_type": "execute_result"
    }
   ],
   "execution_count": 41
  },
  {
   "metadata": {},
   "cell_type": "code",
   "source": [
    "sales_data = data[:, 3]\n",
    "sales_condition = sales_data >= 15\n",
    "\n",
    "radio_data = data[:, 1]\n",
    "radio_condition = radio_data * sales_condition\n",
    "radio_mean = np.sum(radio_condition) / np.sum(sales_condition)\n",
    "radio_mean"
   ],
   "id": "186c86259e1fdefe",
   "outputs": [
    {
     "data": {
      "text/plain": [
       "np.float64(26.222935779816517)"
      ]
     },
     "execution_count": 42,
     "metadata": {},
     "output_type": "execute_result"
    }
   ],
   "execution_count": 42
  },
  {
   "metadata": {},
   "cell_type": "code",
   "source": "answer('b')",
   "id": "6fb6e371215436fe",
   "outputs": [],
   "execution_count": 43
  },
  {
   "metadata": {},
   "cell_type": "markdown",
   "source": "## Câu 19",
   "id": "dd079298bbbf6a6e"
  },
  {
   "metadata": {
    "ExecuteTime": {
     "end_time": "2024-07-14T18:25:20.154459Z",
     "start_time": "2024-07-14T18:25:20.149313Z"
    }
   },
   "cell_type": "code",
   "source": [
    "mean_value = df['Newspaper'].mean()\n",
    "\n",
    "# Filter the values greater than the mean\n",
    "filtered_values = df[df['Newspaper'] > mean_value]\n",
    "\n",
    "# Calculate the sum of the filtered values\n",
    "sum_filtered_values = filtered_values['Sales'].sum()\n",
    "\n",
    "sum_filtered_values"
   ],
   "id": "261b580f58710f6a",
   "outputs": [
    {
     "data": {
      "text/plain": [
       "np.float64(1405.1)"
      ]
     },
     "execution_count": 44,
     "metadata": {},
     "output_type": "execute_result"
    }
   ],
   "execution_count": 44
  },
  {
   "metadata": {
    "ExecuteTime": {
     "end_time": "2024-07-14T18:25:20.158623Z",
     "start_time": "2024-07-14T18:25:20.155606Z"
    }
   },
   "cell_type": "code",
   "source": [
    "newspaper_data = data[:, 2]\n",
    "\n",
    "newspaper_mean = newspaper_data.mean()\n",
    "newspaper_cond = newspaper_data > newspaper_mean\n",
    "sales_data = data[:, 3]\n",
    "\n",
    "sales_cond = sales_data * newspaper_cond\n",
    "sales_sum = np.sum(sales_cond)\n",
    "\n",
    "sales_sum\n"
   ],
   "id": "6f23f241bd8cd287",
   "outputs": [
    {
     "data": {
      "text/plain": [
       "np.float64(1405.1)"
      ]
     },
     "execution_count": 45,
     "metadata": {},
     "output_type": "execute_result"
    }
   ],
   "execution_count": 45
  },
  {
   "metadata": {
    "ExecuteTime": {
     "end_time": "2024-07-14T18:25:20.161416Z",
     "start_time": "2024-07-14T18:25:20.159350Z"
    }
   },
   "cell_type": "code",
   "source": "answer('c')",
   "id": "f4402835e00c4ec1",
   "outputs": [],
   "execution_count": 46
  },
  {
   "metadata": {},
   "cell_type": "markdown",
   "source": "## Câu 20",
   "id": "9c489c8ecdc54a68"
  },
  {
   "metadata": {
    "ExecuteTime": {
     "end_time": "2024-07-14T18:25:20.165302Z",
     "start_time": "2024-07-14T18:25:20.162061Z"
    }
   },
   "cell_type": "code",
   "source": [
    "A = df['Sales'].mean()\n",
    "\n",
    "def check_value(x):\n",
    "    if x > A:\n",
    "        return 'Good'\n",
    "    elif x == A:\n",
    "        return 'Average'\n",
    "    else:\n",
    "        return 'Bad'\n",
    "\n",
    "scores = df['Sales'].apply(check_value)\n",
    "\n",
    "print(scores[7:10])"
   ],
   "id": "bc904241ecde5730",
   "outputs": [
    {
     "name": "stdout",
     "output_type": "stream",
     "text": [
      "7     Bad\n",
      "8     Bad\n",
      "9    Good\n",
      "Name: Sales, dtype: object\n"
     ]
    }
   ],
   "execution_count": 47
  },
  {
   "metadata": {
    "ExecuteTime": {
     "end_time": "2024-07-14T18:25:20.169045Z",
     "start_time": "2024-07-14T18:25:20.165944Z"
    }
   },
   "cell_type": "code",
   "source": [
    "sales_data = data[:, 3]\n",
    "sales_mean = np.mean(sales_data)\n",
    "\n",
    "scores_value = np.where(sales_data > sales_mean, 'Good', np.where(sales_data == sales_mean, 'Average', 'Bad'))\n",
    "\n",
    "scores_value[7:10]"
   ],
   "id": "67a6631a704dc17c",
   "outputs": [
    {
     "data": {
      "text/plain": [
       "array(['Bad', 'Bad', 'Good'], dtype='<U7')"
      ]
     },
     "execution_count": 48,
     "metadata": {},
     "output_type": "execute_result"
    }
   ],
   "execution_count": 48
  },
  {
   "metadata": {
    "ExecuteTime": {
     "end_time": "2024-07-14T18:25:20.171593Z",
     "start_time": "2024-07-14T18:25:20.169612Z"
    }
   },
   "cell_type": "code",
   "source": "answer('c')",
   "id": "8715d3dcf9950c53",
   "outputs": [],
   "execution_count": 49
  },
  {
   "metadata": {},
   "cell_type": "markdown",
   "source": "## Câu 21",
   "id": "e580b82e60e56d58"
  },
  {
   "metadata": {
    "ExecuteTime": {
     "end_time": "2024-07-14T18:25:20.176431Z",
     "start_time": "2024-07-14T18:25:20.172261Z"
    }
   },
   "cell_type": "code",
   "source": [
    "mean_value = df['Sales'].mean()\n",
    "\n",
    "A = df['Sales'].iloc[(df['Sales'] - mean_value).abs().argsort()[:1]].values[0]\n",
    "\n",
    "def check_value(x):\n",
    "    if x > A:\n",
    "        return 'Good'\n",
    "    elif x == A:\n",
    "        return 'Average'\n",
    "    else:\n",
    "        return 'Bad'\n",
    "\n",
    "scores = df['Sales'].apply(check_value)\n",
    "\n",
    "print(scores[7:10])"
   ],
   "id": "25d548089cc85ba",
   "outputs": [
    {
     "name": "stdout",
     "output_type": "stream",
     "text": [
      "7     Bad\n",
      "8     Bad\n",
      "9    Good\n",
      "Name: Sales, dtype: object\n"
     ]
    }
   ],
   "execution_count": 50
  },
  {
   "metadata": {
    "ExecuteTime": {
     "end_time": "2024-07-14T18:25:20.180438Z",
     "start_time": "2024-07-14T18:25:20.177517Z"
    }
   },
   "cell_type": "code",
   "source": [
    "sales_data = data[:, 3]\n",
    "sales_mean = np.mean(sales_data)\n",
    "\n",
    "average_index = np.argmin(abs(sales_data - sales_mean))\n",
    "average_index"
   ],
   "id": "b8fe31fa4ebd1ef5",
   "outputs": [
    {
     "data": {
      "text/plain": [
       "np.int64(123)"
      ]
     },
     "execution_count": 51,
     "metadata": {},
     "output_type": "execute_result"
    }
   ],
   "execution_count": 51
  },
  {
   "metadata": {
    "ExecuteTime": {
     "end_time": "2024-07-14T18:25:20.183816Z",
     "start_time": "2024-07-14T18:25:20.181190Z"
    }
   },
   "cell_type": "code",
   "source": [
    "sales_closet = sales_data[average_index]\n",
    "\n",
    "scores_value = np.where(sales_data > sales_closet, 'Good', np.where(sales_data == sales_closet, 'Average', 'Bad'))\n",
    "\n",
    "scores_value[7:10]"
   ],
   "id": "c145c0e33d639d56",
   "outputs": [
    {
     "data": {
      "text/plain": [
       "array(['Bad', 'Bad', 'Good'], dtype='<U7')"
      ]
     },
     "execution_count": 52,
     "metadata": {},
     "output_type": "execute_result"
    }
   ],
   "execution_count": 52
  },
  {
   "metadata": {
    "ExecuteTime": {
     "end_time": "2024-07-14T18:25:20.186160Z",
     "start_time": "2024-07-14T18:25:20.184437Z"
    }
   },
   "cell_type": "code",
   "source": "answer('c')",
   "id": "e200f9223e519dc",
   "outputs": [],
   "execution_count": 53
  },
  {
   "metadata": {
    "ExecuteTime": {
     "end_time": "2024-07-14T18:25:20.188998Z",
     "start_time": "2024-07-14T18:25:20.186860Z"
    }
   },
   "cell_type": "code",
   "source": [
    "for idx, ans in enumerate(final_answer):\n",
    "    print(f'Câu {idx + 15}: {ans}')"
   ],
   "id": "86390882fbbc0f4d",
   "outputs": [
    {
     "name": "stdout",
     "output_type": "stream",
     "text": [
      "Câu 15: c\n",
      "Câu 16: b\n",
      "Câu 17: a\n",
      "Câu 18: b\n",
      "Câu 19: c\n",
      "Câu 20: c\n",
      "Câu 21: c\n"
     ]
    }
   ],
   "execution_count": 54
  },
  {
   "metadata": {},
   "cell_type": "code",
   "outputs": [],
   "execution_count": null,
   "source": "",
   "id": "da4c55570675d72"
  }
 ],
 "metadata": {
  "kernelspec": {
   "display_name": "Python 3",
   "language": "python",
   "name": "python3"
  },
  "language_info": {
   "codemirror_mode": {
    "name": "ipython",
    "version": 2
   },
   "file_extension": ".py",
   "mimetype": "text/x-python",
   "name": "python",
   "nbconvert_exporter": "python",
   "pygments_lexer": "ipython2",
   "version": "2.7.6"
  }
 },
 "nbformat": 4,
 "nbformat_minor": 5
}
