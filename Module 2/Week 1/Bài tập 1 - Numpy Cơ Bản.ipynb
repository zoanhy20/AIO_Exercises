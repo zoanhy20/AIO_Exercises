{
 "cells": [
  {
   "cell_type": "code",
   "id": "initial_id",
   "metadata": {
    "collapsed": true,
    "ExecuteTime": {
     "end_time": "2024-07-14T18:09:47.455778Z",
     "start_time": "2024-07-14T18:09:47.449909Z"
    }
   },
   "source": [
    "final_answer = []\n",
    "\n",
    "def answer(choice):\n",
    "    final_answer.append(choice)"
   ],
   "outputs": [],
   "execution_count": 1
  },
  {
   "cell_type": "markdown",
   "id": "447bacf5615a6408",
   "metadata": {},
   "source": [
    "## Câu 1"
   ]
  },
  {
   "cell_type": "code",
   "id": "484683194974aefc",
   "metadata": {
    "ExecuteTime": {
     "end_time": "2024-07-14T18:09:47.609951Z",
     "start_time": "2024-07-14T18:09:47.479266Z"
    }
   },
   "source": [
    "import numpy as np\n",
    "arr = np.arange(0, 10, 1)\n",
    "\n",
    "print(arr)"
   ],
   "outputs": [
    {
     "name": "stdout",
     "output_type": "stream",
     "text": [
      "[0 1 2 3 4 5 6 7 8 9]\n"
     ]
    }
   ],
   "execution_count": 2
  },
  {
   "cell_type": "code",
   "id": "a48b8dbd95dcb026",
   "metadata": {
    "ExecuteTime": {
     "end_time": "2024-07-14T18:09:47.612889Z",
     "start_time": "2024-07-14T18:09:47.610956Z"
    }
   },
   "source": [
    "answer('a')"
   ],
   "outputs": [],
   "execution_count": 3
  },
  {
   "cell_type": "markdown",
   "id": "e0651a7a1945e513",
   "metadata": {},
   "source": [
    "## Câu 2"
   ]
  },
  {
   "cell_type": "code",
   "id": "1cd015bf9e5d7151",
   "metadata": {
    "ExecuteTime": {
     "end_time": "2024-07-14T18:09:47.619379Z",
     "start_time": "2024-07-14T18:09:47.613869Z"
    }
   },
   "source": [
    "arr = np.ones((3, 3)) > 0\n",
    "arr"
   ],
   "outputs": [
    {
     "data": {
      "text/plain": [
       "array([[ True,  True,  True],\n",
       "       [ True,  True,  True],\n",
       "       [ True,  True,  True]])"
      ]
     },
     "execution_count": 4,
     "metadata": {},
     "output_type": "execute_result"
    }
   ],
   "execution_count": 4
  },
  {
   "cell_type": "code",
   "id": "9478283e43f0ab5e",
   "metadata": {
    "ExecuteTime": {
     "end_time": "2024-07-14T18:09:47.624554Z",
     "start_time": "2024-07-14T18:09:47.621134Z"
    }
   },
   "source": [
    "arr = np.ones((3, 3), dtype=bool)\n",
    "arr"
   ],
   "outputs": [
    {
     "data": {
      "text/plain": [
       "array([[ True,  True,  True],\n",
       "       [ True,  True,  True],\n",
       "       [ True,  True,  True]])"
      ]
     },
     "execution_count": 5,
     "metadata": {},
     "output_type": "execute_result"
    }
   ],
   "execution_count": 5
  },
  {
   "cell_type": "code",
   "id": "59d64cb324a79456",
   "metadata": {
    "ExecuteTime": {
     "end_time": "2024-07-14T18:09:47.628298Z",
     "start_time": "2024-07-14T18:09:47.625572Z"
    }
   },
   "source": [
    "arr = np.full((3, 3), fill_value=True, dtype=bool)\n",
    "arr"
   ],
   "outputs": [
    {
     "data": {
      "text/plain": [
       "array([[ True,  True,  True],\n",
       "       [ True,  True,  True],\n",
       "       [ True,  True,  True]])"
      ]
     },
     "execution_count": 6,
     "metadata": {},
     "output_type": "execute_result"
    }
   ],
   "execution_count": 6
  },
  {
   "cell_type": "code",
   "id": "f1d7e402b00f338c",
   "metadata": {
    "ExecuteTime": {
     "end_time": "2024-07-14T18:09:47.631171Z",
     "start_time": "2024-07-14T18:09:47.629127Z"
    }
   },
   "source": [
    "answer('d')"
   ],
   "outputs": [],
   "execution_count": 7
  },
  {
   "cell_type": "markdown",
   "id": "d6c68aef9aa2ac49",
   "metadata": {},
   "source": [
    "## Câu 3"
   ]
  },
  {
   "cell_type": "code",
   "id": "406585813e4dea51",
   "metadata": {
    "ExecuteTime": {
     "end_time": "2024-07-14T18:09:47.635143Z",
     "start_time": "2024-07-14T18:09:47.632157Z"
    }
   },
   "source": [
    "import numpy as np\n",
    "arr = np.arange(0, 10)\n",
    "print(arr[arr % 2 == 1])"
   ],
   "outputs": [
    {
     "name": "stdout",
     "output_type": "stream",
     "text": [
      "[1 3 5 7 9]\n"
     ]
    }
   ],
   "execution_count": 8
  },
  {
   "cell_type": "code",
   "id": "3f53d979c7a8fd0b",
   "metadata": {
    "ExecuteTime": {
     "end_time": "2024-07-14T18:09:47.638153Z",
     "start_time": "2024-07-14T18:09:47.636021Z"
    }
   },
   "source": [
    "answer('a')"
   ],
   "outputs": [],
   "execution_count": 9
  },
  {
   "cell_type": "markdown",
   "id": "d24a341004c04443",
   "metadata": {},
   "source": [
    "## Câu 4"
   ]
  },
  {
   "cell_type": "code",
   "id": "62c8e6df3642b8e0",
   "metadata": {
    "ExecuteTime": {
     "end_time": "2024-07-14T18:09:47.641532Z",
     "start_time": "2024-07-14T18:09:47.638984Z"
    }
   },
   "source": [
    "import numpy as np\n",
    "arr = np.arange(0, 10)\n",
    "arr[arr % 2 == 1] = -1\n",
    "print(arr)"
   ],
   "outputs": [
    {
     "name": "stdout",
     "output_type": "stream",
     "text": [
      "[ 0 -1  2 -1  4 -1  6 -1  8 -1]\n"
     ]
    }
   ],
   "execution_count": 10
  },
  {
   "cell_type": "code",
   "id": "b4b38a2935daabba",
   "metadata": {
    "ExecuteTime": {
     "end_time": "2024-07-14T18:09:47.644990Z",
     "start_time": "2024-07-14T18:09:47.642949Z"
    }
   },
   "source": [
    "answer('b')"
   ],
   "outputs": [],
   "execution_count": 11
  },
  {
   "cell_type": "markdown",
   "id": "42b5a62c7e64fc3",
   "metadata": {},
   "source": [
    "## Câu 5"
   ]
  },
  {
   "cell_type": "code",
   "id": "e1280a3d6dccc83c",
   "metadata": {
    "ExecuteTime": {
     "end_time": "2024-07-14T18:09:47.671251Z",
     "start_time": "2024-07-14T18:09:47.667804Z"
    }
   },
   "source": [
    "import numpy as np\n",
    "arr = np.arange(10)\n",
    "arr_2d = arr.reshape(2, -1)\n",
    "print(arr_2d)"
   ],
   "outputs": [
    {
     "name": "stdout",
     "output_type": "stream",
     "text": [
      "[[0 1 2 3 4]\n",
      " [5 6 7 8 9]]\n"
     ]
    }
   ],
   "execution_count": 12
  },
  {
   "cell_type": "code",
   "id": "d6b82989ca8dc8ce",
   "metadata": {
    "ExecuteTime": {
     "end_time": "2024-07-14T18:09:47.697200Z",
     "start_time": "2024-07-14T18:09:47.695067Z"
    }
   },
   "source": [
    "answer('b')"
   ],
   "outputs": [],
   "execution_count": 13
  },
  {
   "cell_type": "markdown",
   "id": "ef3d30838aa80bc6",
   "metadata": {},
   "source": [
    "## Câu 6"
   ]
  },
  {
   "cell_type": "code",
   "id": "8a530c952045532a",
   "metadata": {
    "ExecuteTime": {
     "end_time": "2024-07-14T18:09:47.752953Z",
     "start_time": "2024-07-14T18:09:47.747982Z"
    }
   },
   "source": [
    "import numpy as np\n",
    "arr1 = np.arange(10).reshape(2, -1)\n",
    "arr2 = np.repeat(1, 10).reshape(2, -1)\n",
    "c = np.concatenate([arr1, arr2], axis=0)\n",
    "print('Result: \\n', c)"
   ],
   "outputs": [
    {
     "name": "stdout",
     "output_type": "stream",
     "text": [
      "Result: \n",
      " [[0 1 2 3 4]\n",
      " [5 6 7 8 9]\n",
      " [1 1 1 1 1]\n",
      " [1 1 1 1 1]]\n"
     ]
    }
   ],
   "execution_count": 14
  },
  {
   "cell_type": "code",
   "id": "348578e022cfc5dd",
   "metadata": {
    "ExecuteTime": {
     "end_time": "2024-07-14T18:09:47.789076Z",
     "start_time": "2024-07-14T18:09:47.785786Z"
    }
   },
   "source": [
    "answer('a')"
   ],
   "outputs": [],
   "execution_count": 15
  },
  {
   "cell_type": "markdown",
   "id": "b01aa3dbc4c44546",
   "metadata": {},
   "source": [
    "## Câu 7"
   ]
  },
  {
   "cell_type": "code",
   "id": "28552a73b5b7a329",
   "metadata": {
    "ExecuteTime": {
     "end_time": "2024-07-14T18:09:47.814416Z",
     "start_time": "2024-07-14T18:09:47.809698Z"
    }
   },
   "source": [
    "import numpy as np\n",
    "arr1 = np.arange(10).reshape(2, -1)\n",
    "arr2 = np.repeat(1, 10).reshape(2, -1)\n",
    "c = np.concatenate([arr1, arr2], axis=1)\n",
    "print(\"C = \", c)"
   ],
   "outputs": [
    {
     "name": "stdout",
     "output_type": "stream",
     "text": [
      "C =  [[0 1 2 3 4 1 1 1 1 1]\n",
      " [5 6 7 8 9 1 1 1 1 1]]\n"
     ]
    }
   ],
   "execution_count": 16
  },
  {
   "cell_type": "code",
   "id": "c67a977b377adf70",
   "metadata": {
    "ExecuteTime": {
     "end_time": "2024-07-14T18:09:47.824784Z",
     "start_time": "2024-07-14T18:09:47.821628Z"
    }
   },
   "source": [
    "answer('c')"
   ],
   "outputs": [],
   "execution_count": 17
  },
  {
   "cell_type": "markdown",
   "id": "a37d7be323b5c207",
   "metadata": {},
   "source": [
    "## Câu 8"
   ]
  },
  {
   "cell_type": "code",
   "id": "594bd5d25315ac83",
   "metadata": {
    "ExecuteTime": {
     "end_time": "2024-07-14T18:09:47.833474Z",
     "start_time": "2024-07-14T18:09:47.829380Z"
    }
   },
   "source": [
    "import numpy as np\n",
    "arr = np.array([1, 2, 3])\n",
    "print(np.repeat(arr, 3))\n",
    "print(np.tile(arr, 3))"
   ],
   "outputs": [
    {
     "name": "stdout",
     "output_type": "stream",
     "text": [
      "[1 1 1 2 2 2 3 3 3]\n",
      "[1 2 3 1 2 3 1 2 3]\n"
     ]
    }
   ],
   "execution_count": 18
  },
  {
   "cell_type": "code",
   "id": "a077c0499f0ca78",
   "metadata": {
    "ExecuteTime": {
     "end_time": "2024-07-14T18:09:47.870081Z",
     "start_time": "2024-07-14T18:09:47.867190Z"
    }
   },
   "source": [
    "answer('a')"
   ],
   "outputs": [],
   "execution_count": 19
  },
  {
   "cell_type": "markdown",
   "id": "46a6e90e92390dea",
   "metadata": {},
   "source": [
    "## Câu 9"
   ]
  },
  {
   "cell_type": "code",
   "id": "75368955b480e420",
   "metadata": {
    "ExecuteTime": {
     "end_time": "2024-07-14T18:09:47.879919Z",
     "start_time": "2024-07-14T18:09:47.876061Z"
    }
   },
   "source": [
    "import numpy as np\n",
    "a = np.array([2, 6, 1, 9, 10, 3, 27])\n",
    "index = np.where((a >= 5) & (a <= 10))\n",
    "print('result', a[index])"
   ],
   "outputs": [
    {
     "name": "stdout",
     "output_type": "stream",
     "text": [
      "result [ 6  9 10]\n"
     ]
    }
   ],
   "execution_count": 20
  },
  {
   "cell_type": "code",
   "id": "adfc82f9fdc30413",
   "metadata": {
    "ExecuteTime": {
     "end_time": "2024-07-14T18:09:47.905333Z",
     "start_time": "2024-07-14T18:09:47.902944Z"
    }
   },
   "source": [
    "answer('c')"
   ],
   "outputs": [],
   "execution_count": 21
  },
  {
   "cell_type": "markdown",
   "id": "3bee660b19e0e1b3",
   "metadata": {},
   "source": [
    "## Câu 10"
   ]
  },
  {
   "cell_type": "code",
   "id": "a3aa4b7a939c31e",
   "metadata": {
    "ExecuteTime": {
     "end_time": "2024-07-14T18:09:47.972591Z",
     "start_time": "2024-07-14T18:09:47.967551Z"
    }
   },
   "source": [
    "import numpy as np\n",
    "\n",
    "def maxx(x, y):\n",
    "    if x >= y:\n",
    "        return x\n",
    "    else:\n",
    "        return y\n",
    "    \n",
    "a = np.array([5, 7, 9, 8, 6, 4, 5])\n",
    "b = np.array([6, 3, 4, 8, 9, 7, 1])\n",
    "\n",
    "pair_max = np.vectorize(maxx, otypes=[float])\n",
    "print(pair_max(a, b))"
   ],
   "outputs": [
    {
     "name": "stdout",
     "output_type": "stream",
     "text": [
      "[6. 7. 9. 8. 9. 7. 5.]\n"
     ]
    }
   ],
   "execution_count": 22
  },
  {
   "cell_type": "code",
   "id": "841b93571d2ba3b",
   "metadata": {
    "ExecuteTime": {
     "end_time": "2024-07-14T18:09:47.999073Z",
     "start_time": "2024-07-14T18:09:47.996553Z"
    }
   },
   "source": [
    "answer('d')"
   ],
   "outputs": [],
   "execution_count": 23
  },
  {
   "cell_type": "markdown",
   "id": "554ba452219bbfc5",
   "metadata": {},
   "source": [
    "## Câu 11"
   ]
  },
  {
   "cell_type": "code",
   "id": "2eb9899cde6abb36",
   "metadata": {
    "ExecuteTime": {
     "end_time": "2024-07-14T18:09:48.040675Z",
     "start_time": "2024-07-14T18:09:48.035359Z"
    }
   },
   "source": [
    "import numpy as np\n",
    "\n",
    "a = np.array([5, 7, 9, 8, 6, 4, 5])\n",
    "b = np.array([6, 3, 4, 8, 9, 7, 1])\n",
    "\n",
    "print('Result', np.where(a < b, b, a))"
   ],
   "outputs": [
    {
     "name": "stdout",
     "output_type": "stream",
     "text": [
      "Result [6 7 9 8 9 7 5]\n"
     ]
    }
   ],
   "execution_count": 24
  },
  {
   "cell_type": "code",
   "id": "4ed6035efd758f5b",
   "metadata": {
    "ExecuteTime": {
     "end_time": "2024-07-14T18:09:48.062521Z",
     "start_time": "2024-07-14T18:09:48.059219Z"
    }
   },
   "source": [
    "answer('a')"
   ],
   "outputs": [],
   "execution_count": 25
  },
  {
   "cell_type": "code",
   "id": "5adf8f819eec7d47",
   "metadata": {
    "ExecuteTime": {
     "end_time": "2024-07-14T18:09:48.089679Z",
     "start_time": "2024-07-14T18:09:48.086028Z"
    }
   },
   "source": [
    "for idx, ans in enumerate(final_answer):\n",
    "    print(f'Câu {idx + 1}: {ans}')"
   ],
   "outputs": [
    {
     "name": "stdout",
     "output_type": "stream",
     "text": [
      "Câu 1: a\n",
      "Câu 2: d\n",
      "Câu 3: a\n",
      "Câu 4: b\n",
      "Câu 5: b\n",
      "Câu 6: a\n",
      "Câu 7: c\n",
      "Câu 8: a\n",
      "Câu 9: c\n",
      "Câu 10: d\n",
      "Câu 11: a\n"
     ]
    }
   ],
   "execution_count": 26
  },
  {
   "cell_type": "code",
   "id": "fe0c6912",
   "metadata": {
    "ExecuteTime": {
     "end_time": "2024-07-14T18:09:48.115283Z",
     "start_time": "2024-07-14T18:09:48.112977Z"
    }
   },
   "source": "",
   "outputs": [],
   "execution_count": 26
  }
 ],
 "metadata": {
  "kernelspec": {
   "display_name": "Python 3",
   "language": "python",
   "name": "python3"
  },
  "language_info": {
   "codemirror_mode": {
    "name": "ipython",
    "version": 2
   },
   "file_extension": ".py",
   "mimetype": "text/x-python",
   "name": "python",
   "nbconvert_exporter": "python",
   "pygments_lexer": "ipython2",
   "version": "2.7.6"
  }
 },
 "nbformat": 4,
 "nbformat_minor": 5
}
